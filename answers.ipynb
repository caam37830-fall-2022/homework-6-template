{
 "cells": [
  {
   "cell_type": "markdown",
   "metadata": {},
   "source": [
    "# Homework 6 - Dimension Reduction and Fast Exponential Transform\n",
    "\n",
    "In this homework, we will work on some problems involving fitting and dimension reduction. "
   ]
  },
  {
   "cell_type": "code",
   "execution_count": 1,
   "metadata": {},
   "outputs": [],
   "source": [
    "import numpy as np\n",
    "import matplotlib.pyplot as plt\n",
    "import sklearn\n",
    "import scipy.linalg as la"
   ]
  },
  {
   "cell_type": "markdown",
   "metadata": {},
   "source": [
    "## Preamble\n",
    "\n",
    "The following method will be used in the next problem. It generates noisy samples from a sphere."
   ]
  },
  {
   "cell_type": "code",
   "execution_count": 2,
   "metadata": {},
   "outputs": [],
   "source": [
    "def sample_noisy_sphere(n, **kw):\n",
    "    \"\"\"\n",
    "    Sample n points uniformly at random from the k-sphere\n",
    "    embedded in d dimensions.\n",
    "    \n",
    "    Add normal nosie with variance sigma\n",
    "    \n",
    "    Arguments:\n",
    "        n - number of samples\n",
    "    \n",
    "    Optional arguments:\n",
    "        r - radius of circle (default 1.0)\n",
    "        k - dimension of sphere (default k = 1 == circle)\n",
    "        sigma - noise variance (default 0.1)\n",
    "        d - dimension of embedded space (default k+1)\n",
    "    \"\"\"\n",
    "    r = kw.get('r', 1.0)\n",
    "    k = kw.get('k', 1)\n",
    "    sigma = kw.get('sigma', 0.1)\n",
    "    d = kw.get('d', k+1)\n",
    "\n",
    "    X = np.random.randn(n,k+1)\n",
    "    X = r * X / np.linalg.norm(X, axis=1).reshape(n, -1) # project onto sphere\n",
    "    \n",
    "    Q, R = np.linalg.qr(np.random.randn(d, k+1))\n",
    "    X = X @ Q.T # apply random rotation\n",
    "\n",
    "    return X + sigma*np.random.randn(n, d)"
   ]
  },
  {
   "cell_type": "code",
   "execution_count": 3,
   "metadata": {},
   "outputs": [
    {
     "data": {
      "image/png": "[encoded data removed]",
      "text/plain": [
       "<Figure size 432x288 with 1 Axes>"
      ]
     },
     "metadata": {
      "needs_background": "light"
     },
     "output_type": "display_data"
    }
   ],
   "source": [
    "X = sample_noisy_sphere(1000, d=2)\n",
    "plt.scatter(X[:,0], X[:,1])\n",
    "plt.show()"
   ]
  },
  {
   "cell_type": "markdown",
   "metadata": {},
   "source": [
    "## Problem 0 - Multidimensional Scaling (20 points)\n",
    "\n",
    "[Mulitdimensional scaling (MDS)](https://en.wikipedia.org/wiki/Multidimensional_scaling) is a method which looks for an embedding of $n$ data points into a (lower-dimensional) Euclidean space that preserves pairwise distances as much as possible. In other words, given a set of data points $z_0,\\dots,z_{n-1}$ and a distance function $d$ measuring the distance between them, then we want to find $x_0,\\dots,x_{n-1} \\in \\mathbb{R}^k$ such that\n",
    "$$\\|x_i - x_j \\| \\approx d(z_i,z_j), \\quad 0 \\le i,j \\le n-1.$$\n",
    "\n",
    "First off, we note that if $N>k,$ generally it will not be possible to get equality (think about $(1,0,0,0,\\dots),(0,1,0,0\\dots),\\cdots,$ but we want to get as close as possible.\n",
    "\n",
    "---\n",
    "\n",
    "Let's first start with the simple case where $d$ is the standard Euclidean distance and get some intuition. We can construct the matrix of pairwise distances, $D,$ by setting $D_{i,j} = d(z_i,z_j,)^2.$ Now, let's assume that there was an exact solution. So, there exist $x_1,\\dots,x_{n-1} \\in \\mathbb{R}^k$ such that \n",
    "$$D_{i,j} = \\|x_i-x_j\\|^2,\\quad 0 \\le i,j \\le {n-1}.$$\n",
    "Let's set $X$ to be the $n\\times k$ matrix whose $i$th row is $x_i.$ Then, \n",
    "$$D = \\vec{1} w^T +w \\vec{1}^T -2 X X^T$$\n",
    "where $w = (\\|x_0\\|,\\|x_2\\| ,\\dots, \\|x_{n-1}\\|)^T$ and $\\vec{1}$ is the vector of all ones with length $n.$\n",
    "\n",
    "From this, it is easy to see that $D$ will not change if we shift all $x_i$'s by the same vector (shifting every data point preserves pairwise distances), or rotate them all using an orthogonal matrix $Q,$ since those transformations preserve pairwise distances. So, if we want to recover the $x_i$'s from $D$ we can only do it up to a global translation and rotation. \n",
    "\n",
    "Thus, without loss of generality, we can \"center\" the matrix $X$ so that columns sum to 0, setting $Y = (I - \\frac{1}{n}\\vec{1}\\vec{1}^T) X$.  Let's call this projection matrix $J = (I - \\frac{1}{n}\\vec{1}\\vec{1}^T)$ the \"centering matrix\". In particular, note that $J \\vec{1} = (I - \\frac{1}{n}\\vec{1}\\vec{1}^T )\\vec{1} = \\vec{1} - \\vec{1} = \\vec{0}$, so the nullspace of $J$ consists of constant vectors, as expected.\n",
    "\n",
    "The problem now is, given $D,$ find $Y$ up to a global rotation. Looking at the formula for $D,$ if the first two terms were not there, the problem would be easy. we would want to find an $n\\times k$ matrix $X$ such that $D = -2 X X^T.$ This is nothing but a rank $k$ approximation to $D,$ and can be found using the eigendecomposition!\n",
    "\n",
    "Let's see how to do this. If we define\n",
    "\\begin{equation}\n",
    "B = -\\frac{1}{2}J D J^T\n",
    "\\end{equation}\n",
    "then, looking at the definition of $D,$ we see that\n",
    "$$B = J X X^T J^T = YY^T.$$ \n",
    "Thus we can recover $Y=JX$ (up to a global rotation - i.e. the same rotation is applied to every data point) using an eigenvalue decomposition. Specifically, if $B = V \\Lambda V^T$ then one solution for $Y$ is given by $Y= \\Lambda^{1/2} V_k,$ where $V_k$ spans the largest $k$-dimensional eigenspace and $\\Lambda_k$ is the diagonal matrix with the associated eigenvalues.\n",
    "\n",
    "More generally, if the problem is not exactly solvable, we could try to solve the optimization problem\n",
    "\\begin{equation}\n",
    "\\mathop{\\textsf{minimize}}_{X} \\|B - XX^T\\|_F\n",
    "\\end{equation}\n",
    "Where $X$ is the embedding coordinates (an $n\\times k$ matrix), and $\\|\\cdot \\|_F$ is the Frobenius matrix norm $\\|A\\|_F = \\sqrt{\\sum_{i,j} A_{i,j}^2}$.\n",
    "As before, since $B$ and $XX^T$ are symmetric, an optimal solution is given by the optimal rank-$k$ approximation to $B$, which can again be computed using an eigenvalue decomposition\n",
    "\\begin{equation}\n",
    "B = V \\Lambda V^T\n",
    "\\end{equation}\n",
    "And setting $X = V_k \\Lambda^{1/2}_k.$\n",
    "\n",
    "Putting it altogether, we see that we have an algorithm for recovering a Euclidean embedding from the matrix of pairwise distances.  Note that there is nothing stopping us from finding a Euclidean embedding when $D$ does not come from Euclidean distances, but from some other metric.  In this case, the recovered $X$ will give coordinates which \"optimally\" respect the original metric, even when the original metric can't be embedded in Euclidean space.\n",
    "\n",
    "We now have an algorithm for data visualization given pairwise distance information, the classical MDS algorithm:\n",
    "1. Form the matrix $D$ so $D_{i,j} = d(x_i, x_j)^2$ (even when the distance $d$ isn't Euclidean).\n",
    "See [here](https://caam37830.github.io/book/08_geometry/distances.html#pairwise-distances) for helpful routines and pointers to more information.\n",
    "2. Form the matrix $B = -\\frac{1}{2} J D J^T$\n",
    "3. Compute the eigenvalue decomposition $B = V\\Lambda V^T$\n",
    "4. Return a $k$-dimensional embedding $X = V_k \\Lambda_k^{1/2}$ (recall that for `eigh` $V_k$ is the last `k` columns of the eigenvector matrix)\n",
    "\n",
    "Finally, note there are a variety of variations to MDS.  The one we're implementing is probably the simplest."
   ]
  },
  {
   "cell_type": "markdown",
   "metadata": {},
   "source": [
    "### Part A - Center a Matrix (5 points)\n",
    "\n",
    "Write a function `center_matrix(D)` which given a matrix $D$ returns the matrix $-\\frac{1}{2} J D J^T$. Can you make it faster than simply forming $J$ and multiplying?"
   ]
  },
  {
   "cell_type": "code",
   "execution_count": 4,
   "metadata": {},
   "outputs": [],
   "source": [
    "## Your code here\n"
   ]
  },
  {
   "cell_type": "markdown",
   "metadata": {},
   "source": [
    "### Part B - Implement the MDS algorithm (5 points)\n",
    "\n",
    "Write a function `MDS(D, k=2)` which returns the `k`-dimensional Euclidean embedding for a matrix of pairwise distances `D`."
   ]
  },
  {
   "cell_type": "code",
   "execution_count": 5,
   "metadata": {},
   "outputs": [],
   "source": [
    "## Your code here\n"
   ]
  },
  {
   "cell_type": "markdown",
   "metadata": {},
   "source": [
    "### Part C - Use your implementation (10 points)\n",
    "\n",
    "Use the noisy circle data in the preamble section for your input data `X`.  Use your `MDS` function to get coordinates for the data after computing pairwise distances with the following metrics.  Visualize each embedding using a scatter plot.\n",
    "\n",
    "1. Euclidean Metric\n",
    "2. $L^1$ metric (`cityblock` in scipy)\n",
    "3. $L^\\infty$ metric (`chebyshev` in scipy)\n",
    "4. Cosine distance (`cosine` in scipy)"
   ]
  },
  {
   "cell_type": "code",
   "execution_count": 6,
   "metadata": {},
   "outputs": [],
   "source": [
    "## Your code here\n"
   ]
  },
  {
   "cell_type": "markdown",
   "metadata": {},
   "source": [
    "## Problem 1 (30 points)\n",
    "\n",
    "In this problem, we will experiment with a common fast algorithm for applying exponential functions in 1D. Suppose we have sorted points $x_0,\\dots,x_{n-1} \\in \\mathbb{R}$ and \"weights\" $c_0,\\dots,c_{n-1}$ and we want to compute the sum\n",
    "$$f_i = \\sum_{j=0}^{n-1} \\exp(-|x_i-x_j|) c_j,$$\n",
    "for $i=0,1,2,\\dots,n-1.$ "
   ]
  },
  {
   "cell_type": "markdown",
   "metadata": {},
   "source": [
    "### Part A (5 points)\n",
    "\n",
    "The most straightforward way to find $f_0,\\dots,f_{n-1}$ is via linear algebra. Make a big matrix $E$ with $E_{i,j}= \\exp(-|x_i-x_j|).$ If we set $c$ to be the vector of weights, and $f$ to be the vector of values we want, then we get\n",
    "$$f = Ec.$$\n",
    "\n",
    "Implement a routine `exp_transform(x,c)` which takes in a vector of $x$ \"positions\" ($x_0<x_1<\\dots<x_{n-1}$) and a vector of weights $c$ and outputs the corresponding $f$ values as a vector using this approach.\n",
    "\n",
    "Test its performance in terms of time by taking 200,400,800,1600,3200,6400,10000 random normal numbers for the $x$ positions and setting all of the $c$'s to be one (only time the `exp_transform(x,c)` routine, not the time to generate $x$ or sort it). Plot your results. If the latter trials are taking too long then feel free to exclude them from your results (just make a note)."
   ]
  },
  {
   "cell_type": "code",
   "execution_count": 7,
   "metadata": {},
   "outputs": [],
   "source": [
    "## Your code here\n"
   ]
  },
  {
   "cell_type": "markdown",
   "metadata": {},
   "source": [
    "Unfortunately, for large $n,$ (think 10's of thousands to millions) creating and storing $E$ can get expensive, and applying the matrix will take $O(n^2)$ operations. Let's try to find a better way. For a given point $x_i$ let $L_i$ be the collection of all the points to the left of $x_i$ and $R_i$ be the collection of all points to the right of $x_i.$ Then\n",
    "\n",
    "$$ f_i = c_i + \\sum_{j \\in L_i} \\exp(x_j-x_i) c_j +\\sum_{j \\in R_i} \\exp(x_i-x_j) c_j.$$\n",
    "\n",
    "Set $w_i = \\sum_{j \\in L_i} \\exp(x_j-x_i) c_j,$ and $u_i = \\sum_{j \\in R_i} \\exp(x_i-x_j) c_j.$ Then, after some arithmetic, we see that\n",
    "$$w_{i+1} = \\exp(x_i-x_{i+1}) (w_i + c_i)$$\n",
    "and\n",
    "$$u_{i-1} = \\exp(x_{i-1}-x_{i}) (u_i + c_i)$$"
   ]
  },
  {
   "cell_type": "markdown",
   "metadata": {},
   "source": [
    "### Part B (10 points)\n",
    "\n",
    "Write a function, `sweep_right(x,c)` which computes all the $w$'s using the above recurrence formula. Your routine should start with $w_0 = 0,$ and compute $w_1 = \\exp(x_0-x_1)*c_0,$ then $w_2 = \\exp(x_1-x_2)*(w_1+c_1),$ and so on.\n",
    "\n",
    "Write a function, `sweep_left(x,c)` which computes all the $u$'s using the above recurrence formula. Your routine should start with $u_{n-1} = 0,$ and compute $u_{n-2} = \\exp(x_{n-2}-x_{n-1})*c_{n-1},$ then $u_{n-3} = \\exp(x_{n-3}-x_{n-2})*(u_{n-2}+c_{n-2}),$ and so on. When implementing this method, it might be helpful to use `numpy.flip` to reverse the $x$ and $c$ vectors to make your code look similar to `sweep_right` - just make sure to check the signs in the exponents and to make sure that the output is flipped properly."
   ]
  },
  {
   "cell_type": "code",
   "execution_count": 8,
   "metadata": {},
   "outputs": [],
   "source": [
    "## Your code here\n"
   ]
  },
  {
   "cell_type": "markdown",
   "metadata": {},
   "source": [
    "### Part C (10 points)\n",
    "\n",
    "Write a function `fast_exp_transform(x,c)` which takes in a vector of $x$ \"positions\" ($x_0<x_1<\\dots<x_{n-1}$) and a vector of weights $c$ and outputs the corresponding $f$ values as a vector using your `sweep_left` and `sweep_right` functions and the formula above.\n",
    "\n",
    "Test its accuracy against `exp_transform` for a small number of points (100 let's say).\n",
    "\n",
    "Test its performance in terms of time by taking 200,400,800,1600,3200,6400,10000 random normal numbers for the $x$ positions and setting all of the $c$'s to be one (only time the `fast_exp_transform(x,c)` routine, not the time to generate $x$ or sort it). Plot your results. *Make sure the points are sorted!* \n",
    "\n",
    "How many points can you do? \n",
    "\n",
    "What is the crossover point between this approach and `exp_transform` if any? i.e. for what value of $n$ will the two take about the same time?\n",
    "\n",
    "What is the computational complexity (in $n$) of your `fast_exp_transform` code?"
   ]
  },
  {
   "cell_type": "code",
   "execution_count": 9,
   "metadata": {},
   "outputs": [],
   "source": [
    "## Your code here\n"
   ]
  },
  {
   "cell_type": "markdown",
   "metadata": {},
   "source": [
    "### Part D (5 points)\n",
    "\n",
    "Try to optimize both codes as much as possible. For example, you could try to vectorize the construction of the exponentials in the first approach. You could try to use `numba` to try to accelerate the second. You can precompute the exponentials of the distances between consecutive $x$ values and pass that as an optional argument to your sweeping routines. How much can you improve your code? This is an open-ended question and there is no \"right\" answer. "
   ]
  },
  {
   "cell_type": "code",
   "execution_count": 10,
   "metadata": {},
   "outputs": [],
   "source": [
    "## Your code here\n"
   ]
  }
 ],
 "metadata": {
  "kernelspec": {
   "display_name": "Python 3 (ipykernel)",
   "language": "python",
   "name": "python3"
  },
  "language_info": {
   "codemirror_mode": {
    "name": "ipython",
    "version": 3
   },
   "file_extension": ".py",
   "mimetype": "text/x-python",
   "name": "python",
   "nbconvert_exporter": "python",
   "pygments_lexer": "ipython3",
   "version": "3.8.5"
  }
 },
 "nbformat": 4,
 "nbformat_minor": 4
}
